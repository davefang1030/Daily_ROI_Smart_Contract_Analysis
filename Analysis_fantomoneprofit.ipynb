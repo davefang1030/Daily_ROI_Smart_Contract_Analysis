{
 "cells": [
  {
   "cell_type": "markdown",
   "metadata": {},
   "source": [
    "# <center>Fantom One Profit Smart Contract Analysis</center>\n"
   ]
  },
  {
   "cell_type": "markdown",
   "metadata": {},
   "source": [
    "Fantom one profit is a __daily ROI project__, a [smart contract](https://ftmscan.com/address/0xf36cff29A1c92F5a8358DA21fA1f314023264634#code) deployed on fantom network. The game has two different plans with one offer 17% daily return for 7 days and the other offer 6% daily return for 30 days. \n",
    "<img src='images/fantom_one_profit_plans.png'>\n",
    "\n",
    "The minimum investment is 5 FTM. The initial investment is locked away and will never be returned. The investor can withdraw and reinvest anytime. When people invest in the contract, the contract balance grows. When the contract balance goes to zero, the contract ends and there is nothing left for investor to withdraw. The contract was created on 2/17/2022 and the contract balance went to zero on 3/8/2022 even though there are still people trying to invest and withdraw from the contract as of 3/22/2022. The [website](https://fantomoneprofit.site/) is still available with the contract developers launching similar projects.\n",
    "\n",
    "The purpose of this notebook is to preform __on-chain analysis__ to study the statistical characteristics of this daily ROI project and to understand:\n",
    "* Profit and loss distribution among contract participants\n",
    "* Investor behaviors\n",
    "\n",
    "This contract is similar in its concept to stable one v2 contract on polygon network but it is a little less sophisticated. The analysis is also pretty similar. As most of daily ROI project, fantom one profit is more like a ponzi and only early investors can be profitable. Also the contract creators (\"ceo\" and \"dev\" as coded in the smart contract) makes money.\n",
    "<table><tr>\n",
    "<td> <img src=\"images/fantom_one_payout.png\"/></td>\n",
    "<td> <img src=\"images/fantom_one_return_dist_by_date.png\"/> </td>\n",
    "</tr></table>\n"
   ]
  },
  {
   "cell_type": "code",
   "execution_count": 1,
   "metadata": {},
   "outputs": [],
   "source": [
    "import pandas as pd\n",
    "import asyncio\n",
    "import aiohttp\n",
    "from datetime import datetime\n",
    "import numpy as np\n",
    "import matplotlib.pyplot as plt\n",
    "import matplotlib.ticker as mtick\n",
    "%matplotlib inline"
   ]
  },
  {
   "cell_type": "markdown",
   "metadata": {},
   "source": [
    "### Helper Functions"
   ]
  },
  {
   "cell_type": "markdown",
   "metadata": {},
   "source": [
    "Provide a valid polyganscan API key below to run the notebook. You can obtain a free API key from https://ftmscan.com/apis"
   ]
  },
  {
   "cell_type": "code",
   "execution_count": 2,
   "metadata": {},
   "outputs": [],
   "source": [
    "FANTOM_API_KEY=\"YOUR API KEY GOES HERE...\"\n",
    "FANTOM_PREFIX=\"https://api.ftmscan.com/\""
   ]
  },
  {
   "cell_type": "code",
   "execution_count": 3,
   "metadata": {},
   "outputs": [],
   "source": [
    "# increase the data rate limit to run the program if needed\n",
    "# jupyter notebook --NotebookApp.iopub_data_rate_limit=1.0e10\n",
    "\n",
    "async def get_all_normal_transactions(prefix, apikey, address, startblock=0):\n",
    "    \"\"\"\n",
    "    prefix: json-rpc \n",
    "    apikey: API key\n",
    "    address: the address to sell all transactions\n",
    "    startblock: it is not recommended to using 0. BSC has no problem. Polygon sometimes would complain the range is too large. \n",
    "                So start with a block number just before contract creation.\n",
    "                \n",
    "    return: list of transactions.\n",
    "    \"\"\"\n",
    "    count = 10000\n",
    "\n",
    "    output = []\n",
    "    # API only return 10000 results at a time. So we have to loop\n",
    "    while count > 9999:\n",
    "        async with aiohttp.ClientSession() as session:\n",
    "            url = f\"{prefix}api?module=account&action=txlist&address={address}&startblock={startblock}&endblock=99999999&sort=asc&apikey={apikey}\"\n",
    "            #print(url)\n",
    "            async with session.get(url) as resp:\n",
    "                ret = await resp.json()\n",
    "        \n",
    "        if ret['status'] == '1':\n",
    "            output.extend(ret['result'])      \n",
    "            count = len(ret['result'])\n",
    "            startblock = ret['result'][count - 1]['blockNumber']\n",
    "        else:\n",
    "            print(\"error.\", ret)\n",
    "            count = 0\n",
    "    \n",
    "    return output\n",
    "\n",
    "\n",
    "# TODO: refactor the code as the main difference between the two are url...\n",
    "async def get_all_internal_transactions(prefix, apikey, address, startblock=0):\n",
    "    \"\"\"\n",
    "    prefix: json-rpc\n",
    "    apikey: API key\n",
    "    address: the address to sell all transactions\n",
    "    startblock: it is not recommended to using 0. BSC has no problem. Polygon sometimes would complain the range is too large. \n",
    "                So start with a block number just before contract creation.\n",
    "                \n",
    "    return: list of transactions.\n",
    "    \"\"\"\n",
    "    count = 10000\n",
    "\n",
    "    output = []\n",
    "    # API only return 10000 results at a time. So we have to loop\n",
    "    while count > 9999:\n",
    "        async with aiohttp.ClientSession() as session:\n",
    "            url = f\"{prefix}api?module=account&action=txlistinternal&address={address}&startblock={startblock}&endblock=99999999&sort=asc&apikey={apikey}\"\n",
    "            #print(url)\n",
    "            async with session.get(url) as resp:\n",
    "                ret = await resp.json()\n",
    "        \n",
    "        if ret['status'] == '1':\n",
    "            output.extend(ret['result'])      \n",
    "            count = len(ret['result'])\n",
    "            startblock = ret['result'][count - 1]['blockNumber']\n",
    "        else:\n",
    "            print(\"error.\", ret)\n",
    "            count = 0\n",
    "    \n",
    "    return output"
   ]
  },
  {
   "cell_type": "markdown",
   "metadata": {},
   "source": [
    "### Get all transactions for 0xf36cff29A1c92F5a8358DA21fA1f314023264634 - fantom one profit smart contract"
   ]
  },
  {
   "cell_type": "code",
   "execution_count": 4,
   "metadata": {},
   "outputs": [
    {
     "data": {
      "text/html": [
       "<div>\n",
       "<style scoped>\n",
       "    .dataframe tbody tr th:only-of-type {\n",
       "        vertical-align: middle;\n",
       "    }\n",
       "\n",
       "    .dataframe tbody tr th {\n",
       "        vertical-align: top;\n",
       "    }\n",
       "\n",
       "    .dataframe thead th {\n",
       "        text-align: right;\n",
       "    }\n",
       "</style>\n",
       "<table border=\"1\" class=\"dataframe\">\n",
       "  <thead>\n",
       "    <tr style=\"text-align: right;\">\n",
       "      <th></th>\n",
       "      <th>blockNumber</th>\n",
       "      <th>timeStamp</th>\n",
       "      <th>hash</th>\n",
       "      <th>nonce</th>\n",
       "      <th>blockHash</th>\n",
       "      <th>transactionIndex</th>\n",
       "      <th>from</th>\n",
       "      <th>to</th>\n",
       "      <th>value</th>\n",
       "      <th>gas</th>\n",
       "      <th>gasPrice</th>\n",
       "      <th>isError</th>\n",
       "      <th>txreceipt_status</th>\n",
       "      <th>input</th>\n",
       "      <th>contractAddress</th>\n",
       "      <th>cumulativeGasUsed</th>\n",
       "      <th>gasUsed</th>\n",
       "      <th>confirmations</th>\n",
       "    </tr>\n",
       "  </thead>\n",
       "  <tbody>\n",
       "    <tr>\n",
       "      <th>42920</th>\n",
       "      <td>34147152</td>\n",
       "      <td>1647994726</td>\n",
       "      <td>0xa14ef56e52aac7b6cba033a53d9746b4b8720860c0eb...</td>\n",
       "      <td>13</td>\n",
       "      <td>0x0001755800000c6ccce2bd333a3457dd008b334e17d8...</td>\n",
       "      <td>4</td>\n",
       "      <td>0x6611b9bc881bc38e47589680cec8aaf6c935c2a4</td>\n",
       "      <td>0xf36cff29a1c92f5a8358da21fa1f314023264634</td>\n",
       "      <td>0</td>\n",
       "      <td>99556</td>\n",
       "      <td>617406800000</td>\n",
       "      <td>0</td>\n",
       "      <td>1</td>\n",
       "      <td>0x3ccfd60b</td>\n",
       "      <td></td>\n",
       "      <td>1464854</td>\n",
       "      <td>99556</td>\n",
       "      <td>1941</td>\n",
       "    </tr>\n",
       "    <tr>\n",
       "      <th>42921</th>\n",
       "      <td>34147209</td>\n",
       "      <td>1647994774</td>\n",
       "      <td>0x19fbd66c118f8675ed8542a77c99955297649439f0b4...</td>\n",
       "      <td>18</td>\n",
       "      <td>0x0001755800000ee2cb604a41a6412888bf6e8eac8b08...</td>\n",
       "      <td>40</td>\n",
       "      <td>0x62b01eca373fc8438ac566295d4566b8844ddf40</td>\n",
       "      <td>0xf36cff29a1c92f5a8358da21fa1f314023264634</td>\n",
       "      <td>0</td>\n",
       "      <td>47521</td>\n",
       "      <td>596811300000</td>\n",
       "      <td>0</td>\n",
       "      <td>1</td>\n",
       "      <td>0x3ccfd60b</td>\n",
       "      <td></td>\n",
       "      <td>4051786</td>\n",
       "      <td>43321</td>\n",
       "      <td>1884</td>\n",
       "    </tr>\n",
       "    <tr>\n",
       "      <th>42922</th>\n",
       "      <td>34147763</td>\n",
       "      <td>1647995304</td>\n",
       "      <td>0x080c899cad3e40a6831937e5eb9a68f08a172a186670...</td>\n",
       "      <td>16</td>\n",
       "      <td>0x0001755a00000ac30812f891eac114d2e91f0f959f71...</td>\n",
       "      <td>1</td>\n",
       "      <td>0xf0bf0c6499efd743740f72e229e06dab58659538</td>\n",
       "      <td>0xf36cff29a1c92f5a8358da21fa1f314023264634</td>\n",
       "      <td>0</td>\n",
       "      <td>96030</td>\n",
       "      <td>474655000000</td>\n",
       "      <td>0</td>\n",
       "      <td>1</td>\n",
       "      <td>0x3ccfd60b</td>\n",
       "      <td></td>\n",
       "      <td>111382</td>\n",
       "      <td>67221</td>\n",
       "      <td>1330</td>\n",
       "    </tr>\n",
       "    <tr>\n",
       "      <th>42923</th>\n",
       "      <td>34147895</td>\n",
       "      <td>1647995442</td>\n",
       "      <td>0x39576af3c0920e996924a55aaca32f515fb306ab6e7f...</td>\n",
       "      <td>18</td>\n",
       "      <td>0x0001755b000000b4df832f9e4cc28a41e51fb620f345...</td>\n",
       "      <td>22</td>\n",
       "      <td>0x2b9187a2f045305f7feb35032f7e46357c188d03</td>\n",
       "      <td>0xf36cff29a1c92f5a8358da21fa1f314023264634</td>\n",
       "      <td>0</td>\n",
       "      <td>138955</td>\n",
       "      <td>472906300000</td>\n",
       "      <td>0</td>\n",
       "      <td>1</td>\n",
       "      <td>0x3ccfd60b</td>\n",
       "      <td></td>\n",
       "      <td>2050782</td>\n",
       "      <td>97268</td>\n",
       "      <td>1198</td>\n",
       "    </tr>\n",
       "    <tr>\n",
       "      <th>42924</th>\n",
       "      <td>34147971</td>\n",
       "      <td>1647995514</td>\n",
       "      <td>0x49028f7e69c7b5fae496bdad1b1b00f9f7b6e76442e6...</td>\n",
       "      <td>13</td>\n",
       "      <td>0x0001755b0000041afe7859fea69ec33c93bc32901ba7...</td>\n",
       "      <td>0</td>\n",
       "      <td>0x06542c19bd50d74dd4354ed9963b89ed0af91a73</td>\n",
       "      <td>0xf36cff29a1c92f5a8358da21fa1f314023264634</td>\n",
       "      <td>0</td>\n",
       "      <td>138507</td>\n",
       "      <td>463821200000</td>\n",
       "      <td>0</td>\n",
       "      <td>1</td>\n",
       "      <td>0x3ccfd60b</td>\n",
       "      <td></td>\n",
       "      <td>96954</td>\n",
       "      <td>96954</td>\n",
       "      <td>1122</td>\n",
       "    </tr>\n",
       "    <tr>\n",
       "      <th>42925</th>\n",
       "      <td>34147997</td>\n",
       "      <td>1647995537</td>\n",
       "      <td>0x565cab15f305bfd8705969311234cccff93e1b7d2c02...</td>\n",
       "      <td>14</td>\n",
       "      <td>0x0001755b000005292bd869425afdc5444cd3a8c58f9a...</td>\n",
       "      <td>0</td>\n",
       "      <td>0x06542c19bd50d74dd4354ed9963b89ed0af91a73</td>\n",
       "      <td>0xf36cff29a1c92f5a8358da21fa1f314023264634</td>\n",
       "      <td>0</td>\n",
       "      <td>138507</td>\n",
       "      <td>463821200000</td>\n",
       "      <td>0</td>\n",
       "      <td>1</td>\n",
       "      <td>0x3ccfd60b</td>\n",
       "      <td></td>\n",
       "      <td>71662</td>\n",
       "      <td>71662</td>\n",
       "      <td>1096</td>\n",
       "    </tr>\n",
       "    <tr>\n",
       "      <th>42926</th>\n",
       "      <td>34148183</td>\n",
       "      <td>1647995713</td>\n",
       "      <td>0x4b0db64ddafd50478465aedf132d7f3d919fea990303...</td>\n",
       "      <td>6</td>\n",
       "      <td>0x0001755c000000683a2e0476116d695c153d2a58776a...</td>\n",
       "      <td>26</td>\n",
       "      <td>0xc8c579426dafafa7db54b00aae6e645b5fa4af56</td>\n",
       "      <td>0xf36cff29a1c92f5a8358da21fa1f314023264634</td>\n",
       "      <td>0</td>\n",
       "      <td>135276</td>\n",
       "      <td>412339200000</td>\n",
       "      <td>0</td>\n",
       "      <td>1</td>\n",
       "      <td>0x3ccfd60b</td>\n",
       "      <td></td>\n",
       "      <td>3943342</td>\n",
       "      <td>94693</td>\n",
       "      <td>910</td>\n",
       "    </tr>\n",
       "    <tr>\n",
       "      <th>42927</th>\n",
       "      <td>34148194</td>\n",
       "      <td>1647995727</td>\n",
       "      <td>0xd4f2f267660448049349547b806173c4702d02724e24...</td>\n",
       "      <td>15</td>\n",
       "      <td>0x0001755c000000f8d23eb356ed6ce694bcc2f4fc2c0a...</td>\n",
       "      <td>25</td>\n",
       "      <td>0x06542c19bd50d74dd4354ed9963b89ed0af91a73</td>\n",
       "      <td>0xf36cff29a1c92f5a8358da21fa1f314023264634</td>\n",
       "      <td>0</td>\n",
       "      <td>103353</td>\n",
       "      <td>398003200000</td>\n",
       "      <td>0</td>\n",
       "      <td>1</td>\n",
       "      <td>0x3ccfd60b</td>\n",
       "      <td></td>\n",
       "      <td>4784023</td>\n",
       "      <td>68147</td>\n",
       "      <td>899</td>\n",
       "    </tr>\n",
       "    <tr>\n",
       "      <th>42928</th>\n",
       "      <td>34148811</td>\n",
       "      <td>1647996349</td>\n",
       "      <td>0x43aaa7b8afe8d8e8a4d967ddc41c61fef2803d43bec6...</td>\n",
       "      <td>1</td>\n",
       "      <td>0x0001755e000008c2cf1d86ad6d0ce54f6da7dd8ba0ca...</td>\n",
       "      <td>1</td>\n",
       "      <td>0x7b0da45820b18471b0c26e6473338646efb13aa2</td>\n",
       "      <td>0xf36cff29a1c92f5a8358da21fa1f314023264634</td>\n",
       "      <td>0</td>\n",
       "      <td>106435</td>\n",
       "      <td>391963900000</td>\n",
       "      <td>0</td>\n",
       "      <td>1</td>\n",
       "      <td>0x3ccfd60b</td>\n",
       "      <td></td>\n",
       "      <td>197056</td>\n",
       "      <td>74504</td>\n",
       "      <td>282</td>\n",
       "    </tr>\n",
       "    <tr>\n",
       "      <th>42929</th>\n",
       "      <td>34148986</td>\n",
       "      <td>1647996512</td>\n",
       "      <td>0x5d008190a48b902dd9af464eb80fad24a7efea5a7d20...</td>\n",
       "      <td>127</td>\n",
       "      <td>0x0001755f000002d6bb1de201bf6cf1d93b6bab3ca924...</td>\n",
       "      <td>31</td>\n",
       "      <td>0x973eb17fa913f00178d9086336b86e6657f5cdbc</td>\n",
       "      <td>0xf36cff29a1c92f5a8358da21fa1f314023264634</td>\n",
       "      <td>0</td>\n",
       "      <td>83156</td>\n",
       "      <td>436271800000</td>\n",
       "      <td>0</td>\n",
       "      <td>1</td>\n",
       "      <td>0x3ccfd60b</td>\n",
       "      <td></td>\n",
       "      <td>2853567</td>\n",
       "      <td>78956</td>\n",
       "      <td>107</td>\n",
       "    </tr>\n",
       "  </tbody>\n",
       "</table>\n",
       "</div>"
      ],
      "text/plain": [
       "      blockNumber   timeStamp  \\\n",
       "42920    34147152  1647994726   \n",
       "42921    34147209  1647994774   \n",
       "42922    34147763  1647995304   \n",
       "42923    34147895  1647995442   \n",
       "42924    34147971  1647995514   \n",
       "42925    34147997  1647995537   \n",
       "42926    34148183  1647995713   \n",
       "42927    34148194  1647995727   \n",
       "42928    34148811  1647996349   \n",
       "42929    34148986  1647996512   \n",
       "\n",
       "                                                    hash nonce  \\\n",
       "42920  0xa14ef56e52aac7b6cba033a53d9746b4b8720860c0eb...    13   \n",
       "42921  0x19fbd66c118f8675ed8542a77c99955297649439f0b4...    18   \n",
       "42922  0x080c899cad3e40a6831937e5eb9a68f08a172a186670...    16   \n",
       "42923  0x39576af3c0920e996924a55aaca32f515fb306ab6e7f...    18   \n",
       "42924  0x49028f7e69c7b5fae496bdad1b1b00f9f7b6e76442e6...    13   \n",
       "42925  0x565cab15f305bfd8705969311234cccff93e1b7d2c02...    14   \n",
       "42926  0x4b0db64ddafd50478465aedf132d7f3d919fea990303...     6   \n",
       "42927  0xd4f2f267660448049349547b806173c4702d02724e24...    15   \n",
       "42928  0x43aaa7b8afe8d8e8a4d967ddc41c61fef2803d43bec6...     1   \n",
       "42929  0x5d008190a48b902dd9af464eb80fad24a7efea5a7d20...   127   \n",
       "\n",
       "                                               blockHash transactionIndex  \\\n",
       "42920  0x0001755800000c6ccce2bd333a3457dd008b334e17d8...                4   \n",
       "42921  0x0001755800000ee2cb604a41a6412888bf6e8eac8b08...               40   \n",
       "42922  0x0001755a00000ac30812f891eac114d2e91f0f959f71...                1   \n",
       "42923  0x0001755b000000b4df832f9e4cc28a41e51fb620f345...               22   \n",
       "42924  0x0001755b0000041afe7859fea69ec33c93bc32901ba7...                0   \n",
       "42925  0x0001755b000005292bd869425afdc5444cd3a8c58f9a...                0   \n",
       "42926  0x0001755c000000683a2e0476116d695c153d2a58776a...               26   \n",
       "42927  0x0001755c000000f8d23eb356ed6ce694bcc2f4fc2c0a...               25   \n",
       "42928  0x0001755e000008c2cf1d86ad6d0ce54f6da7dd8ba0ca...                1   \n",
       "42929  0x0001755f000002d6bb1de201bf6cf1d93b6bab3ca924...               31   \n",
       "\n",
       "                                             from  \\\n",
       "42920  0x6611b9bc881bc38e47589680cec8aaf6c935c2a4   \n",
       "42921  0x62b01eca373fc8438ac566295d4566b8844ddf40   \n",
       "42922  0xf0bf0c6499efd743740f72e229e06dab58659538   \n",
       "42923  0x2b9187a2f045305f7feb35032f7e46357c188d03   \n",
       "42924  0x06542c19bd50d74dd4354ed9963b89ed0af91a73   \n",
       "42925  0x06542c19bd50d74dd4354ed9963b89ed0af91a73   \n",
       "42926  0xc8c579426dafafa7db54b00aae6e645b5fa4af56   \n",
       "42927  0x06542c19bd50d74dd4354ed9963b89ed0af91a73   \n",
       "42928  0x7b0da45820b18471b0c26e6473338646efb13aa2   \n",
       "42929  0x973eb17fa913f00178d9086336b86e6657f5cdbc   \n",
       "\n",
       "                                               to value     gas      gasPrice  \\\n",
       "42920  0xf36cff29a1c92f5a8358da21fa1f314023264634     0   99556  617406800000   \n",
       "42921  0xf36cff29a1c92f5a8358da21fa1f314023264634     0   47521  596811300000   \n",
       "42922  0xf36cff29a1c92f5a8358da21fa1f314023264634     0   96030  474655000000   \n",
       "42923  0xf36cff29a1c92f5a8358da21fa1f314023264634     0  138955  472906300000   \n",
       "42924  0xf36cff29a1c92f5a8358da21fa1f314023264634     0  138507  463821200000   \n",
       "42925  0xf36cff29a1c92f5a8358da21fa1f314023264634     0  138507  463821200000   \n",
       "42926  0xf36cff29a1c92f5a8358da21fa1f314023264634     0  135276  412339200000   \n",
       "42927  0xf36cff29a1c92f5a8358da21fa1f314023264634     0  103353  398003200000   \n",
       "42928  0xf36cff29a1c92f5a8358da21fa1f314023264634     0  106435  391963900000   \n",
       "42929  0xf36cff29a1c92f5a8358da21fa1f314023264634     0   83156  436271800000   \n",
       "\n",
       "      isError txreceipt_status       input contractAddress cumulativeGasUsed  \\\n",
       "42920       0                1  0x3ccfd60b                           1464854   \n",
       "42921       0                1  0x3ccfd60b                           4051786   \n",
       "42922       0                1  0x3ccfd60b                            111382   \n",
       "42923       0                1  0x3ccfd60b                           2050782   \n",
       "42924       0                1  0x3ccfd60b                             96954   \n",
       "42925       0                1  0x3ccfd60b                             71662   \n",
       "42926       0                1  0x3ccfd60b                           3943342   \n",
       "42927       0                1  0x3ccfd60b                           4784023   \n",
       "42928       0                1  0x3ccfd60b                            197056   \n",
       "42929       0                1  0x3ccfd60b                           2853567   \n",
       "\n",
       "      gasUsed confirmations  \n",
       "42920   99556          1941  \n",
       "42921   43321          1884  \n",
       "42922   67221          1330  \n",
       "42923   97268          1198  \n",
       "42924   96954          1122  \n",
       "42925   71662          1096  \n",
       "42926   94693           910  \n",
       "42927   68147           899  \n",
       "42928   74504           282  \n",
       "42929   78956           107  "
      ]
     },
     "execution_count": 4,
     "metadata": {},
     "output_type": "execute_result"
    }
   ],
   "source": [
    "# contract address\n",
    "FANTOM_ONE_PROFIT_CONTRACT = \"0xf36cff29A1c92F5a8358DA21fA1f314023264634\".lower()\n",
    "\n",
    "# use a block no that is a little bit earlier than contract creation\n",
    "START_BLOCK_NO = 30088200\n",
    "\n",
    "output = await get_all_normal_transactions(prefix=FANTOM_PREFIX, \n",
    "                                           apikey=FANTOM_API_KEY, \n",
    "                                           address=FANTOM_ONE_PROFIT_CONTRACT, \n",
    "                                           startblock=START_BLOCK_NO)\n",
    "\n",
    "# Put data in dataframe and Remove duplicates\n",
    "all_tx = pd.DataFrame.from_dict(output)\n",
    "all_tx = all_tx.drop_duplicates(subset = ['hash'], keep = 'last').reset_index(drop = True)\n",
    "all_tx = all_tx[all_tx['isError'] == '0']\n",
    "\n",
    "all_tx.tail(10)"
   ]
  },
  {
   "cell_type": "markdown",
   "metadata": {},
   "source": [
    "#### Let's group transactions together\n",
    "We are most interested in \"Withdraw\" and \"Invest\" calls. The method id are 0x3ccfd60b and 0x581c5ae6. These methods can be found on the transaction history on fantomscan"
   ]
  },
  {
   "cell_type": "code",
   "execution_count": 5,
   "metadata": {},
   "outputs": [],
   "source": [
    "WITHDRAW_METHODID = '0x3ccfd60b'\n",
    "INVEST_METHODID = '0x581c5ae6'"
   ]
  },
  {
   "cell_type": "code",
   "execution_count": 6,
   "metadata": {},
   "outputs": [
    {
     "name": "stderr",
     "output_type": "stream",
     "text": [
      "C:\\Users\\davefang\\.conda\\envs\\textmining\\lib\\site-packages\\ipykernel_launcher.py:6: SettingWithCopyWarning: \n",
      "A value is trying to be set on a copy of a slice from a DataFrame.\n",
      "Try using .loc[row_indexer,col_indexer] = value instead\n",
      "\n",
      "See the caveats in the documentation: https://pandas.pydata.org/pandas-docs/stable/user_guide/indexing.html#returning-a-view-versus-a-copy\n",
      "  \n",
      "C:\\Users\\davefang\\.conda\\envs\\textmining\\lib\\site-packages\\ipykernel_launcher.py:7: SettingWithCopyWarning: \n",
      "A value is trying to be set on a copy of a slice from a DataFrame.\n",
      "Try using .loc[row_indexer,col_indexer] = value instead\n",
      "\n",
      "See the caveats in the documentation: https://pandas.pydata.org/pandas-docs/stable/user_guide/indexing.html#returning-a-view-versus-a-copy\n",
      "  import sys\n"
     ]
    }
   ],
   "source": [
    "all_invest = all_tx[all_tx.input.str.startswith(INVEST_METHODID)]\n",
    "all_withdraw = all_tx[all_tx.input == WITHDRAW_METHODID]\n",
    "\n",
    "# convert to human readable format\n",
    "DECIMAL = 1e18\n",
    "all_invest['Investment'] = all_invest.value.astype(float)/DECIMAL\n",
    "all_invest['UTC_Date'] = pd.to_datetime(all_invest.timeStamp, unit='s')"
   ]
  },
  {
   "cell_type": "code",
   "execution_count": 7,
   "metadata": {},
   "outputs": [
    {
     "name": "stdout",
     "output_type": "stream",
     "text": [
      "Total FTM deposited:  1342190.062665382\n"
     ]
    },
    {
     "data": {
      "image/png": "[encoded data removed]",
      "text/plain": [
       "<Figure size 432x288 with 1 Axes>"
      ]
     },
     "metadata": {
      "needs_background": "light"
     },
     "output_type": "display_data"
    }
   ],
   "source": [
    "# How many FTM investment per day\n",
    "df2 = all_invest.groupby(all_invest['UTC_Date'].dt.date).sum()\n",
    "df2.plot.bar()\n",
    "total_investment = df2.Investment.sum()\n",
    "print(\"Total FTM deposited: \", total_investment)"
   ]
  },
  {
   "cell_type": "code",
   "execution_count": null,
   "metadata": {},
   "outputs": [],
   "source": []
  },
  {
   "cell_type": "markdown",
   "metadata": {},
   "source": [
    "### Get all internal tranasctions\n",
    "The withdraw function transaction does not give out information about the withdraw amount. So we need to pull all internal transactions as internal transactions reveal the amount as well as where the money is going."
   ]
  },
  {
   "cell_type": "code",
   "execution_count": 8,
   "metadata": {},
   "outputs": [],
   "source": [
    "output2 = await get_all_internal_transactions(prefix=FANTOM_PREFIX, \n",
    "                                              apikey=FANTOM_API_KEY, \n",
    "                                              address=FANTOM_ONE_PROFIT_CONTRACT, \n",
    "                                              startblock=START_BLOCK_NO)"
   ]
  },
  {
   "cell_type": "code",
   "execution_count": 9,
   "metadata": {},
   "outputs": [
    {
     "data": {
      "text/html": [
       "<div>\n",
       "<style scoped>\n",
       "    .dataframe tbody tr th:only-of-type {\n",
       "        vertical-align: middle;\n",
       "    }\n",
       "\n",
       "    .dataframe tbody tr th {\n",
       "        vertical-align: top;\n",
       "    }\n",
       "\n",
       "    .dataframe thead th {\n",
       "        text-align: right;\n",
       "    }\n",
       "</style>\n",
       "<table border=\"1\" class=\"dataframe\">\n",
       "  <thead>\n",
       "    <tr style=\"text-align: right;\">\n",
       "      <th></th>\n",
       "      <th>blockNumber</th>\n",
       "      <th>timeStamp</th>\n",
       "      <th>hash</th>\n",
       "      <th>from</th>\n",
       "      <th>to</th>\n",
       "      <th>value</th>\n",
       "      <th>contractAddress</th>\n",
       "      <th>input</th>\n",
       "      <th>type</th>\n",
       "      <th>gas</th>\n",
       "      <th>gasUsed</th>\n",
       "      <th>traceId</th>\n",
       "      <th>isError</th>\n",
       "      <th>errCode</th>\n",
       "      <th>withdraw</th>\n",
       "      <th>UTC_Date</th>\n",
       "    </tr>\n",
       "  </thead>\n",
       "  <tbody>\n",
       "    <tr>\n",
       "      <th>43951</th>\n",
       "      <td>34132141</td>\n",
       "      <td>1647978585</td>\n",
       "      <td>0x293752d8183b76ccb87072df8537ebfcbd7faefad4b3...</td>\n",
       "      <td>0x5f2c878cf53049751c7965ebb6cc7ab734477570</td>\n",
       "      <td>0xf36cff29a1c92f5a8358da21fa1f314023264634</td>\n",
       "      <td>8000000000000000000</td>\n",
       "      <td></td>\n",
       "      <td></td>\n",
       "      <td>call</td>\n",
       "      <td>136461</td>\n",
       "      <td>136461</td>\n",
       "      <td></td>\n",
       "      <td>0</td>\n",
       "      <td></td>\n",
       "      <td>8.00</td>\n",
       "      <td>2022-03-22 19:49:45</td>\n",
       "    </tr>\n",
       "    <tr>\n",
       "      <th>43952</th>\n",
       "      <td>34132141</td>\n",
       "      <td>1647978585</td>\n",
       "      <td>0x293752d8183b76ccb87072df8537ebfcbd7faefad4b3...</td>\n",
       "      <td>0xf36cff29a1c92f5a8358da21fa1f314023264634</td>\n",
       "      <td>0x5629c3e9371b77136f0c03ceadb9e76c8db7ab00</td>\n",
       "      <td>640000000000000000</td>\n",
       "      <td></td>\n",
       "      <td></td>\n",
       "      <td>call</td>\n",
       "      <td>136461</td>\n",
       "      <td>0</td>\n",
       "      <td>0</td>\n",
       "      <td>0</td>\n",
       "      <td></td>\n",
       "      <td>0.64</td>\n",
       "      <td>2022-03-22 19:49:45</td>\n",
       "    </tr>\n",
       "    <tr>\n",
       "      <th>43953</th>\n",
       "      <td>34132141</td>\n",
       "      <td>1647978585</td>\n",
       "      <td>0x293752d8183b76ccb87072df8537ebfcbd7faefad4b3...</td>\n",
       "      <td>0xf36cff29a1c92f5a8358da21fa1f314023264634</td>\n",
       "      <td>0xbb4ad0ef2fcc13d226dfd2c101544709ebf33287</td>\n",
       "      <td>320000000000000000</td>\n",
       "      <td></td>\n",
       "      <td></td>\n",
       "      <td>call</td>\n",
       "      <td>136461</td>\n",
       "      <td>0</td>\n",
       "      <td>1</td>\n",
       "      <td>0</td>\n",
       "      <td></td>\n",
       "      <td>0.32</td>\n",
       "      <td>2022-03-22 19:49:45</td>\n",
       "    </tr>\n",
       "    <tr>\n",
       "      <th>43954</th>\n",
       "      <td>34132141</td>\n",
       "      <td>1647978585</td>\n",
       "      <td>0x293752d8183b76ccb87072df8537ebfcbd7faefad4b3...</td>\n",
       "      <td>0xf36cff29a1c92f5a8358da21fa1f314023264634</td>\n",
       "      <td>0x5629c3e9371b77136f0c03ceadb9e76c8db7ab00</td>\n",
       "      <td>400000000000000000</td>\n",
       "      <td></td>\n",
       "      <td></td>\n",
       "      <td>call</td>\n",
       "      <td>136461</td>\n",
       "      <td>0</td>\n",
       "      <td>2</td>\n",
       "      <td>0</td>\n",
       "      <td></td>\n",
       "      <td>0.40</td>\n",
       "      <td>2022-03-22 19:49:45</td>\n",
       "    </tr>\n",
       "    <tr>\n",
       "      <th>43955</th>\n",
       "      <td>34132169</td>\n",
       "      <td>1647978608</td>\n",
       "      <td>0xfc9e9e1a981a132e2874db2652566cf8670d5bf5d2a7...</td>\n",
       "      <td>0xf36cff29a1c92f5a8358da21fa1f314023264634</td>\n",
       "      <td>0x2017143f4816c7bc193c60a17c4f147695277b74</td>\n",
       "      <td>6640000000000000000</td>\n",
       "      <td></td>\n",
       "      <td></td>\n",
       "      <td>call</td>\n",
       "      <td>146038</td>\n",
       "      <td>0</td>\n",
       "      <td>0</td>\n",
       "      <td>0</td>\n",
       "      <td></td>\n",
       "      <td>6.64</td>\n",
       "      <td>2022-03-22 19:50:08</td>\n",
       "    </tr>\n",
       "    <tr>\n",
       "      <th>43956</th>\n",
       "      <td>34135706</td>\n",
       "      <td>1647982860</td>\n",
       "      <td>0x95d82d53199970f411dd1250d985b1c4d674064f3e5c...</td>\n",
       "      <td>0x1cf8423299241f155716eb19d0ca65bea4353f03</td>\n",
       "      <td>0xf36cff29a1c92f5a8358da21fa1f314023264634</td>\n",
       "      <td>90000000000000000000</td>\n",
       "      <td></td>\n",
       "      <td></td>\n",
       "      <td>call</td>\n",
       "      <td>117224</td>\n",
       "      <td>117224</td>\n",
       "      <td></td>\n",
       "      <td>0</td>\n",
       "      <td></td>\n",
       "      <td>90.00</td>\n",
       "      <td>2022-03-22 21:01:00</td>\n",
       "    </tr>\n",
       "    <tr>\n",
       "      <th>43957</th>\n",
       "      <td>34135706</td>\n",
       "      <td>1647982860</td>\n",
       "      <td>0x95d82d53199970f411dd1250d985b1c4d674064f3e5c...</td>\n",
       "      <td>0xf36cff29a1c92f5a8358da21fa1f314023264634</td>\n",
       "      <td>0x5629c3e9371b77136f0c03ceadb9e76c8db7ab00</td>\n",
       "      <td>7200000000000000000</td>\n",
       "      <td></td>\n",
       "      <td></td>\n",
       "      <td>call</td>\n",
       "      <td>117224</td>\n",
       "      <td>0</td>\n",
       "      <td>0</td>\n",
       "      <td>0</td>\n",
       "      <td></td>\n",
       "      <td>7.20</td>\n",
       "      <td>2022-03-22 21:01:00</td>\n",
       "    </tr>\n",
       "    <tr>\n",
       "      <th>43958</th>\n",
       "      <td>34135706</td>\n",
       "      <td>1647982860</td>\n",
       "      <td>0x95d82d53199970f411dd1250d985b1c4d674064f3e5c...</td>\n",
       "      <td>0xf36cff29a1c92f5a8358da21fa1f314023264634</td>\n",
       "      <td>0xbb4ad0ef2fcc13d226dfd2c101544709ebf33287</td>\n",
       "      <td>3600000000000000000</td>\n",
       "      <td></td>\n",
       "      <td></td>\n",
       "      <td>call</td>\n",
       "      <td>117224</td>\n",
       "      <td>0</td>\n",
       "      <td>1</td>\n",
       "      <td>0</td>\n",
       "      <td></td>\n",
       "      <td>3.60</td>\n",
       "      <td>2022-03-22 21:01:00</td>\n",
       "    </tr>\n",
       "    <tr>\n",
       "      <th>43959</th>\n",
       "      <td>34135706</td>\n",
       "      <td>1647982860</td>\n",
       "      <td>0x95d82d53199970f411dd1250d985b1c4d674064f3e5c...</td>\n",
       "      <td>0xf36cff29a1c92f5a8358da21fa1f314023264634</td>\n",
       "      <td>0x5629c3e9371b77136f0c03ceadb9e76c8db7ab00</td>\n",
       "      <td>4500000000000000000</td>\n",
       "      <td></td>\n",
       "      <td></td>\n",
       "      <td>call</td>\n",
       "      <td>117224</td>\n",
       "      <td>0</td>\n",
       "      <td>2</td>\n",
       "      <td>0</td>\n",
       "      <td></td>\n",
       "      <td>4.50</td>\n",
       "      <td>2022-03-22 21:01:00</td>\n",
       "    </tr>\n",
       "    <tr>\n",
       "      <th>43960</th>\n",
       "      <td>34135721</td>\n",
       "      <td>1647982877</td>\n",
       "      <td>0x43165b2270426135587ec92e3c5d457f29b5b83f504a...</td>\n",
       "      <td>0xf36cff29a1c92f5a8358da21fa1f314023264634</td>\n",
       "      <td>0x2017143f4816c7bc193c60a17c4f147695277b74</td>\n",
       "      <td>74700000000000000000</td>\n",
       "      <td></td>\n",
       "      <td></td>\n",
       "      <td>call</td>\n",
       "      <td>146038</td>\n",
       "      <td>0</td>\n",
       "      <td>0</td>\n",
       "      <td>0</td>\n",
       "      <td></td>\n",
       "      <td>74.70</td>\n",
       "      <td>2022-03-22 21:01:17</td>\n",
       "    </tr>\n",
       "  </tbody>\n",
       "</table>\n",
       "</div>"
      ],
      "text/plain": [
       "      blockNumber   timeStamp  \\\n",
       "43951    34132141  1647978585   \n",
       "43952    34132141  1647978585   \n",
       "43953    34132141  1647978585   \n",
       "43954    34132141  1647978585   \n",
       "43955    34132169  1647978608   \n",
       "43956    34135706  1647982860   \n",
       "43957    34135706  1647982860   \n",
       "43958    34135706  1647982860   \n",
       "43959    34135706  1647982860   \n",
       "43960    34135721  1647982877   \n",
       "\n",
       "                                                    hash  \\\n",
       "43951  0x293752d8183b76ccb87072df8537ebfcbd7faefad4b3...   \n",
       "43952  0x293752d8183b76ccb87072df8537ebfcbd7faefad4b3...   \n",
       "43953  0x293752d8183b76ccb87072df8537ebfcbd7faefad4b3...   \n",
       "43954  0x293752d8183b76ccb87072df8537ebfcbd7faefad4b3...   \n",
       "43955  0xfc9e9e1a981a132e2874db2652566cf8670d5bf5d2a7...   \n",
       "43956  0x95d82d53199970f411dd1250d985b1c4d674064f3e5c...   \n",
       "43957  0x95d82d53199970f411dd1250d985b1c4d674064f3e5c...   \n",
       "43958  0x95d82d53199970f411dd1250d985b1c4d674064f3e5c...   \n",
       "43959  0x95d82d53199970f411dd1250d985b1c4d674064f3e5c...   \n",
       "43960  0x43165b2270426135587ec92e3c5d457f29b5b83f504a...   \n",
       "\n",
       "                                             from  \\\n",
       "43951  0x5f2c878cf53049751c7965ebb6cc7ab734477570   \n",
       "43952  0xf36cff29a1c92f5a8358da21fa1f314023264634   \n",
       "43953  0xf36cff29a1c92f5a8358da21fa1f314023264634   \n",
       "43954  0xf36cff29a1c92f5a8358da21fa1f314023264634   \n",
       "43955  0xf36cff29a1c92f5a8358da21fa1f314023264634   \n",
       "43956  0x1cf8423299241f155716eb19d0ca65bea4353f03   \n",
       "43957  0xf36cff29a1c92f5a8358da21fa1f314023264634   \n",
       "43958  0xf36cff29a1c92f5a8358da21fa1f314023264634   \n",
       "43959  0xf36cff29a1c92f5a8358da21fa1f314023264634   \n",
       "43960  0xf36cff29a1c92f5a8358da21fa1f314023264634   \n",
       "\n",
       "                                               to                 value  \\\n",
       "43951  0xf36cff29a1c92f5a8358da21fa1f314023264634   8000000000000000000   \n",
       "43952  0x5629c3e9371b77136f0c03ceadb9e76c8db7ab00    640000000000000000   \n",
       "43953  0xbb4ad0ef2fcc13d226dfd2c101544709ebf33287    320000000000000000   \n",
       "43954  0x5629c3e9371b77136f0c03ceadb9e76c8db7ab00    400000000000000000   \n",
       "43955  0x2017143f4816c7bc193c60a17c4f147695277b74   6640000000000000000   \n",
       "43956  0xf36cff29a1c92f5a8358da21fa1f314023264634  90000000000000000000   \n",
       "43957  0x5629c3e9371b77136f0c03ceadb9e76c8db7ab00   7200000000000000000   \n",
       "43958  0xbb4ad0ef2fcc13d226dfd2c101544709ebf33287   3600000000000000000   \n",
       "43959  0x5629c3e9371b77136f0c03ceadb9e76c8db7ab00   4500000000000000000   \n",
       "43960  0x2017143f4816c7bc193c60a17c4f147695277b74  74700000000000000000   \n",
       "\n",
       "      contractAddress input  type     gas gasUsed traceId isError errCode  \\\n",
       "43951                        call  136461  136461               0           \n",
       "43952                        call  136461       0       0       0           \n",
       "43953                        call  136461       0       1       0           \n",
       "43954                        call  136461       0       2       0           \n",
       "43955                        call  146038       0       0       0           \n",
       "43956                        call  117224  117224               0           \n",
       "43957                        call  117224       0       0       0           \n",
       "43958                        call  117224       0       1       0           \n",
       "43959                        call  117224       0       2       0           \n",
       "43960                        call  146038       0       0       0           \n",
       "\n",
       "       withdraw            UTC_Date  \n",
       "43951      8.00 2022-03-22 19:49:45  \n",
       "43952      0.64 2022-03-22 19:49:45  \n",
       "43953      0.32 2022-03-22 19:49:45  \n",
       "43954      0.40 2022-03-22 19:49:45  \n",
       "43955      6.64 2022-03-22 19:50:08  \n",
       "43956     90.00 2022-03-22 21:01:00  \n",
       "43957      7.20 2022-03-22 21:01:00  \n",
       "43958      3.60 2022-03-22 21:01:00  \n",
       "43959      4.50 2022-03-22 21:01:00  \n",
       "43960     74.70 2022-03-22 21:01:17  "
      ]
     },
     "execution_count": 9,
     "metadata": {},
     "output_type": "execute_result"
    }
   ],
   "source": [
    "all_internal_tx = pd.DataFrame.from_dict(output2)\n",
    "# For internal transactions, we could have the same transaction hash. To remove duplicates, we need also consider to address\n",
    "#all_internal_tx = all_internal_tx.drop_duplicates(subset = ['blockNumber', 'hash', 'from', 'to', 'value'], keep = 'last').reset_index(drop = True)\n",
    "# remove transaction that is reverted\n",
    "all_internal_tx = all_internal_tx[all_internal_tx.isError == '0']\n",
    "\n",
    "all_internal_tx['withdraw'] = all_internal_tx.value.astype(float)/DECIMAL\n",
    "all_internal_tx['UTC_Date'] = pd.to_datetime(all_internal_tx.timeStamp, unit='s')\n",
    "\n",
    "all_internal_tx.tail(10)"
   ]
  },
  {
   "cell_type": "markdown",
   "metadata": {},
   "source": [
    "#### Divide internal transactions (transfer transactions) into different wallets/categories\n",
    "Based on solidity code, CEO takes 8%, Dev takes 4% for deposit and investment, the rest goes to the contract"
   ]
  },
  {
   "cell_type": "code",
   "execution_count": 10,
   "metadata": {},
   "outputs": [],
   "source": [
    "# make sure the address copied are lower case\n",
    "CEO_WALLET = '0x5629C3E9371B77136F0c03ceAdb9E76c8dB7Ab00'.lower()\n",
    "DEV_WALLET = '0xBB4aD0Ef2FcC13D226dfd2C101544709eBF33287'.lower()\n",
    "\n",
    "ceo_wallet_tx = all_internal_tx[all_internal_tx.to == CEO_WALLET]\n",
    "dev_wallet_tx = all_internal_tx[all_internal_tx.to == DEV_WALLET]\n",
    "user_withdraw = all_internal_tx[~all_internal_tx.to.isin([CEO_WALLET, DEV_WALLET])]\n",
    "user_withdraw = user_withdraw[user_withdraw['from'] == FANTOM_ONE_PROFIT_CONTRACT]"
   ]
  },
  {
   "cell_type": "code",
   "execution_count": 11,
   "metadata": {},
   "outputs": [],
   "source": [
    "df3 = user_withdraw.groupby(user_withdraw['UTC_Date'].dt.date).sum()\n",
    "df4 = ceo_wallet_tx.groupby(ceo_wallet_tx['UTC_Date'].dt.date).sum()\n",
    "df5 = dev_wallet_tx.groupby(dev_wallet_tx['UTC_Date'].dt.date).sum()\n",
    "# create a data frame that combines total investment, user withdraw, ceo withdraw, dev withdraw\n",
    "df = pd.concat([df2, df3, df4, df5], axis=1)\n",
    "df.columns.values[2] = \"ceo pay\"\n",
    "df.columns.values[3] = \"dev pay\""
   ]
  },
  {
   "cell_type": "markdown",
   "metadata": {},
   "source": [
    "### Analysis"
   ]
  },
  {
   "cell_type": "code",
   "execution_count": 12,
   "metadata": {},
   "outputs": [
    {
     "name": "stdout",
     "output_type": "stream",
     "text": [
      "Total FTM investment by investor: 1342190.062665382, (100.00%)\n",
      "Total FTM withdrawn by investor: 1154583.333219148, (86.02%)\n",
      "Total FTM paid out to ceo: 135902.67920368782, (10.13%)\n",
      "Total FTM paid out to dev: 53629.704506615286, (4.00%)\n"
     ]
    },
    {
     "data": {
      "text/plain": [
       "Text(0.5,1,'Where did all the investment go?')"
      ]
     },
     "execution_count": 12,
     "metadata": {},
     "output_type": "execute_result"
    },
    {
     "data": {
      "image/png": "[encoded data removed]",
      "text/plain": [
       "<Figure size 432x288 with 1 Axes>"
      ]
     },
     "metadata": {},
     "output_type": "display_data"
    }
   ],
   "source": [
    "print(f\"Total FTM investment by investor: {df['Investment'].sum()}, ({df['Investment'].sum()/total_investment*100 :0.2f}%)\")\n",
    "print(f\"Total FTM withdrawn by investor: {df['withdraw'].sum()}, ({df['withdraw'].sum()/total_investment*100 :0.2f}%)\")\n",
    "print(f\"Total FTM paid out to ceo: {df['ceo pay'].sum()}, ({df['ceo pay'].sum()/total_investment*100 :0.2f}%)\")\n",
    "print(f\"Total FTM paid out to dev: {df['dev pay'].sum()}, ({df['dev pay'].sum()/total_investment*100 :0.2f}%)\")\n",
    "labels = ['investor payout', 'ceo payout', 'dev payout']\n",
    "payout = [df['withdraw'].sum(), df['ceo pay'].sum(), df['dev pay'].sum()]\n",
    "plt.pie(payout, labels=labels, autopct='%1.1f%%', colors=['yellowgreen', 'lightblue', 'gold'], \n",
    "        startangle=0, explode=(0.1, 0, 0), shadow=True)\n",
    "plt.axis('equal')\n",
    "plt.title('Where did all the investment go?', fontsize=16)"
   ]
  },
  {
   "cell_type": "code",
   "execution_count": 13,
   "metadata": {},
   "outputs": [
    {
     "data": {
      "text/plain": [
       "Text(0.5,0.98,'Daily Investment and Withdraw Distribution')"
      ]
     },
     "execution_count": 13,
     "metadata": {},
     "output_type": "execute_result"
    },
    {
     "data": {
      "image/png": "[encoded data removed]",
      "text/plain": [
       "<Figure size 1152x360 with 2 Axes>"
      ]
     },
     "metadata": {
      "needs_background": "light"
     },
     "output_type": "display_data"
    }
   ],
   "source": [
    "fig, ax = plt.subplots(1,2)\n",
    "df[['Investment', 'withdraw']].plot.bar(ax=ax[0])\n",
    "df[['Investment', 'ceo pay', 'dev pay']].plot.bar(ax=ax[1])\n",
    "fig.set_figheight(5)\n",
    "fig.set_figwidth(16)\n",
    "fig.suptitle('Daily Investment and Withdraw Distribution', fontsize=20)"
   ]
  },
  {
   "cell_type": "code",
   "execution_count": 14,
   "metadata": {},
   "outputs": [],
   "source": [
    "# let's reconstruct contract balance overtime\n",
    "df['daily gain or drain'] = df['Investment'] - df['withdraw'] - df['ceo pay'] - df['dev pay']\n",
    "df['contract balance'] = df['daily gain or drain'].cumsum()"
   ]
  },
  {
   "cell_type": "code",
   "execution_count": 15,
   "metadata": {},
   "outputs": [
    {
     "data": {
      "text/plain": [
       "Text(0.5,0.98,'Daily contract balance and daily change')"
      ]
     },
     "execution_count": 15,
     "metadata": {},
     "output_type": "execute_result"
    },
    {
     "data": {
      "image/png": "[encoded data removed]",
      "text/plain": [
       "<Figure size 1152x360 with 2 Axes>"
      ]
     },
     "metadata": {
      "needs_background": "light"
     },
     "output_type": "display_data"
    }
   ],
   "source": [
    "fig, ax = plt.subplots(1,2)\n",
    "df['contract balance'].plot.bar(ax=ax[0])\n",
    "df['daily gain or drain'].plot.bar(ax=ax[1])\n",
    "fig.set_figheight(5)\n",
    "fig.set_figwidth(16)\n",
    "fig.suptitle('Daily contract balance and daily change', fontsize=20)"
   ]
  },
  {
   "cell_type": "markdown",
   "metadata": {},
   "source": [
    "#### Let's also examine which user has made money and which user are still trying to make the first deposit back"
   ]
  },
  {
   "cell_type": "code",
   "execution_count": 16,
   "metadata": {},
   "outputs": [
    {
     "name": "stdout",
     "output_type": "stream",
     "text": [
      "Out of total 3648 players, 2113 players, or  57.92%, lost money\n",
      "874 players lost all their money\n",
      "1535 players break even at least\n",
      "589 players made more than 19%, return for 7 day plan\n",
      "74 players made more than 80%, return for 30 day plan\n"
     ]
    },
    {
     "data": {
      "text/plain": [
       "Text(0.5,1,'Investor Return Historgram')"
      ]
     },
     "execution_count": 16,
     "metadata": {},
     "output_type": "execute_result"
    },
    {
     "data": {
      "image/png": "[encoded data removed]",
      "text/plain": [
       "<Figure size 720x360 with 1 Axes>"
      ]
     },
     "metadata": {
      "needs_background": "light"
     },
     "output_type": "display_data"
    }
   ],
   "source": [
    "user_deposit_by_user = all_invest.groupby(all_invest['from'])['Investment'].sum()\n",
    "user_withdraw_by_user = user_withdraw.groupby(user_withdraw['to'])['withdraw'].sum()\n",
    "\n",
    "user = pd.concat([user_deposit_by_user, user_withdraw_by_user], axis=1)\n",
    "user['withdraw'] = user['withdraw'].fillna(0)\n",
    "user.dropna(inplace=True)\n",
    "\n",
    "user['return'] = user.withdraw / user.Investment - 1.0\n",
    "negative_returns = np.sum(user['return']<0)\n",
    "print(f\"Out of total {user.shape[0]} players, {negative_returns} players, or {negative_returns/user.shape[0]*100 : .2f}%, lost money\")\n",
    "print(f\"{np.sum(user['return'] == -1)} players lost all their money\")\n",
    "print(f\"{np.sum(user['return'] >= 0)} players break even at least\")\n",
    "print(f\"{np.sum(user['return'] >= 0.19)} players made more than 19%, return for 7 day plan\")\n",
    "print(f\"{np.sum(user['return'] >= 0.8)} players made more than 80%, return for 30 day plan\")\n",
    "hist = user['return'].hist(bins=[x/10.0 for x in range(-10, 30, 1)], figsize=(10,5))\n",
    "hist.set_title('Investor Return Historgram', fontsize=16)"
   ]
  },
  {
   "cell_type": "code",
   "execution_count": 17,
   "metadata": {},
   "outputs": [
    {
     "data": {
      "text/plain": [
       "Text(0.5,1,'How much did each investor invest?')"
      ]
     },
     "execution_count": 17,
     "metadata": {},
     "output_type": "execute_result"
    },
    {
     "data": {
      "image/png": "[encoded data removed]",
      "text/plain": [
       "<Figure size 432x288 with 1 Axes>"
      ]
     },
     "metadata": {
      "needs_background": "light"
     },
     "output_type": "display_data"
    }
   ],
   "source": [
    "hist2 = user['Investment'].hist(bins=range(0, 1000, 10))\n",
    "hist2.set_title(\"How much did each investor invest?\")"
   ]
  },
  {
   "cell_type": "code",
   "execution_count": 18,
   "metadata": {},
   "outputs": [
    {
     "data": {
      "text/html": [
       "<div>\n",
       "<style scoped>\n",
       "    .dataframe tbody tr th:only-of-type {\n",
       "        vertical-align: middle;\n",
       "    }\n",
       "\n",
       "    .dataframe tbody tr th {\n",
       "        vertical-align: top;\n",
       "    }\n",
       "\n",
       "    .dataframe thead th {\n",
       "        text-align: right;\n",
       "    }\n",
       "</style>\n",
       "<table border=\"1\" class=\"dataframe\">\n",
       "  <thead>\n",
       "    <tr style=\"text-align: right;\">\n",
       "      <th></th>\n",
       "      <th>Investment</th>\n",
       "      <th>withdraw</th>\n",
       "      <th>return</th>\n",
       "      <th>UTC_Date</th>\n",
       "    </tr>\n",
       "  </thead>\n",
       "  <tbody>\n",
       "    <tr>\n",
       "      <th>0x000a317f1ffd2d3a118c502bb91199b19287f89c</th>\n",
       "      <td>13.00000</td>\n",
       "      <td>15.470000</td>\n",
       "      <td>0.190000</td>\n",
       "      <td>2022-02-28 12:55:35</td>\n",
       "    </tr>\n",
       "    <tr>\n",
       "      <th>0x00149fa71a4e8bc0a194c7f2102b528181ce4425</th>\n",
       "      <td>52.80000</td>\n",
       "      <td>5.439103</td>\n",
       "      <td>-0.896987</td>\n",
       "      <td>2022-03-07 10:57:59</td>\n",
       "    </tr>\n",
       "    <tr>\n",
       "      <th>0x00565933b3670fd1155e77cd0461fadfe97fdb0e</th>\n",
       "      <td>170.00000</td>\n",
       "      <td>170.374451</td>\n",
       "      <td>0.002203</td>\n",
       "      <td>2022-02-21 10:40:08</td>\n",
       "    </tr>\n",
       "    <tr>\n",
       "      <th>0x0074e01a21e9934680c883f0b1231c7b3953a589</th>\n",
       "      <td>999.99999</td>\n",
       "      <td>869.449599</td>\n",
       "      <td>-0.130550</td>\n",
       "      <td>2022-02-27 05:47:30</td>\n",
       "    </tr>\n",
       "    <tr>\n",
       "      <th>0x008371cb1f09ea671afd6da961f865e550447527</th>\n",
       "      <td>200.00000</td>\n",
       "      <td>238.000000</td>\n",
       "      <td>0.190000</td>\n",
       "      <td>2022-02-22 22:22:14</td>\n",
       "    </tr>\n",
       "    <tr>\n",
       "      <th>0x0083badd1fb155a49c8332661521f15cc7739669</th>\n",
       "      <td>55.00000</td>\n",
       "      <td>18.587047</td>\n",
       "      <td>-0.662054</td>\n",
       "      <td>2022-03-01 22:11:59</td>\n",
       "    </tr>\n",
       "    <tr>\n",
       "      <th>0x0099fd51ae1c911c3be7fd95f2631dbf82e2dca8</th>\n",
       "      <td>7.00000</td>\n",
       "      <td>0.000000</td>\n",
       "      <td>-1.000000</td>\n",
       "      <td>2022-02-19 20:11:15</td>\n",
       "    </tr>\n",
       "    <tr>\n",
       "      <th>0x00a1c25053f65715343e4a76bd493aa55a28b392</th>\n",
       "      <td>25.00000</td>\n",
       "      <td>0.000000</td>\n",
       "      <td>-1.000000</td>\n",
       "      <td>2022-02-22 23:05:23</td>\n",
       "    </tr>\n",
       "    <tr>\n",
       "      <th>0x00a57122a265b729d8ed275f3c157e76dd3696b1</th>\n",
       "      <td>14.00000</td>\n",
       "      <td>0.000000</td>\n",
       "      <td>-1.000000</td>\n",
       "      <td>2022-03-15 00:05:47</td>\n",
       "    </tr>\n",
       "    <tr>\n",
       "      <th>0x00a74d2f8e9ba0c6915cc32dbcb2ef71ac6d906d</th>\n",
       "      <td>8379.00000</td>\n",
       "      <td>0.000000</td>\n",
       "      <td>-1.000000</td>\n",
       "      <td>2022-03-03 03:30:26</td>\n",
       "    </tr>\n",
       "  </tbody>\n",
       "</table>\n",
       "</div>"
      ],
      "text/plain": [
       "                                            Investment    withdraw    return  \\\n",
       "0x000a317f1ffd2d3a118c502bb91199b19287f89c    13.00000   15.470000  0.190000   \n",
       "0x00149fa71a4e8bc0a194c7f2102b528181ce4425    52.80000    5.439103 -0.896987   \n",
       "0x00565933b3670fd1155e77cd0461fadfe97fdb0e   170.00000  170.374451  0.002203   \n",
       "0x0074e01a21e9934680c883f0b1231c7b3953a589   999.99999  869.449599 -0.130550   \n",
       "0x008371cb1f09ea671afd6da961f865e550447527   200.00000  238.000000  0.190000   \n",
       "0x0083badd1fb155a49c8332661521f15cc7739669    55.00000   18.587047 -0.662054   \n",
       "0x0099fd51ae1c911c3be7fd95f2631dbf82e2dca8     7.00000    0.000000 -1.000000   \n",
       "0x00a1c25053f65715343e4a76bd493aa55a28b392    25.00000    0.000000 -1.000000   \n",
       "0x00a57122a265b729d8ed275f3c157e76dd3696b1    14.00000    0.000000 -1.000000   \n",
       "0x00a74d2f8e9ba0c6915cc32dbcb2ef71ac6d906d  8379.00000    0.000000 -1.000000   \n",
       "\n",
       "                                                      UTC_Date  \n",
       "0x000a317f1ffd2d3a118c502bb91199b19287f89c 2022-02-28 12:55:35  \n",
       "0x00149fa71a4e8bc0a194c7f2102b528181ce4425 2022-03-07 10:57:59  \n",
       "0x00565933b3670fd1155e77cd0461fadfe97fdb0e 2022-02-21 10:40:08  \n",
       "0x0074e01a21e9934680c883f0b1231c7b3953a589 2022-02-27 05:47:30  \n",
       "0x008371cb1f09ea671afd6da961f865e550447527 2022-02-22 22:22:14  \n",
       "0x0083badd1fb155a49c8332661521f15cc7739669 2022-03-01 22:11:59  \n",
       "0x0099fd51ae1c911c3be7fd95f2631dbf82e2dca8 2022-02-19 20:11:15  \n",
       "0x00a1c25053f65715343e4a76bd493aa55a28b392 2022-02-22 23:05:23  \n",
       "0x00a57122a265b729d8ed275f3c157e76dd3696b1 2022-03-15 00:05:47  \n",
       "0x00a74d2f8e9ba0c6915cc32dbcb2ef71ac6d906d 2022-03-03 03:30:26  "
      ]
     },
     "execution_count": 18,
     "metadata": {},
     "output_type": "execute_result"
    }
   ],
   "source": [
    "# let's figure out when did investor first invest\n",
    "user_earliest_investment_date = all_invest.groupby(all_invest['from'])['UTC_Date'].min()\n",
    "user = pd.concat([user, user_earliest_investment_date], axis=1)\n",
    "\n",
    "user.head(10)"
   ]
  },
  {
   "cell_type": "code",
   "execution_count": 19,
   "metadata": {},
   "outputs": [
    {
     "data": {
      "text/plain": [
       "Text(0.5,1,'Investor Return Distribution based on first investment date')"
      ]
     },
     "execution_count": 19,
     "metadata": {},
     "output_type": "execute_result"
    },
    {
     "data": {
      "image/png": "[encoded data removed]",
      "text/plain": [
       "<Figure size 720x360 with 1 Axes>"
      ]
     },
     "metadata": {
      "needs_background": "light"
     },
     "output_type": "display_data"
    }
   ],
   "source": [
    "user2 = user[user['return'] < 2]\n",
    "fig = user2.plot(x='UTC_Date', y='return', style='.', figsize=(10, 5))\n",
    "fig.set_title('Investor Return Distribution based on first investment date', fontsize=14)"
   ]
  },
  {
   "cell_type": "markdown",
   "metadata": {},
   "source": [
    "The return chart is a little suprising as there are early investors who have lost all the money. Maybe they never withdrew and just kept reinvest the money. For 30-day plan, as long as you withdraw, you get pricipal back on 17th day. The contract launched on 2/17/2022 and lasted about 20 days."
   ]
  },
  {
   "cell_type": "code",
   "execution_count": 20,
   "metadata": {},
   "outputs": [],
   "source": [
    "ug = user.groupby(user['UTC_Date'].dt.date).count()\n",
    "ugn = user[user['return']<0].groupby(user['UTC_Date'].dt.date).count()\n",
    "df6 = pd.concat([ug['return'], ugn['return']], axis=1)\n",
    "df6.columns.values[0] = 'Total Investor'\n",
    "df6.columns.values[1] = 'Total Negative Returns'\n",
    "df6['% positive return'] = 100 - df6['Total Negative Returns'] / df6['Total Investor'] * 100\n",
    "df6['% negative return'] = df6['Total Negative Returns'] / df6['Total Investor'] * 100"
   ]
  },
  {
   "cell_type": "code",
   "execution_count": 21,
   "metadata": {},
   "outputs": [
    {
     "data": {
      "text/plain": [
       "Text(0.5,0.98,'Investor Distribution based on first investment day')"
      ]
     },
     "execution_count": 21,
     "metadata": {},
     "output_type": "execute_result"
    },
    {
     "data": {
      "image/png": "[encoded data removed]",
      "text/plain": [
       "<Figure size 1152x360 with 2 Axes>"
      ]
     },
     "metadata": {
      "needs_background": "light"
     },
     "output_type": "display_data"
    }
   ],
   "source": [
    "fig, ax = plt.subplots(1,2)\n",
    "df6['Total Investor'].plot.bar(ax=ax[0])\n",
    "df6[['% positive return', '% negative return']].plot.bar(stacked=True, ax=ax[1])\n",
    "fig.set_figheight(5)\n",
    "fig.set_figwidth(16)\n",
    "fig.suptitle('Investor Distribution based on first investment day', fontsize=20)"
   ]
  },
  {
   "cell_type": "code",
   "execution_count": null,
   "metadata": {},
   "outputs": [],
   "source": []
  }
 ],
 "metadata": {
  "kernelspec": {
   "display_name": "Python 3",
   "language": "python",
   "name": "python3"
  },
  "language_info": {
   "codemirror_mode": {
    "name": "ipython",
    "version": 3
   },
   "file_extension": ".py",
   "mimetype": "text/x-python",
   "name": "python",
   "nbconvert_exporter": "python",
   "pygments_lexer": "ipython3",
   "version": "3.7.3"
  }
 },
 "nbformat": 4,
 "nbformat_minor": 4
}
